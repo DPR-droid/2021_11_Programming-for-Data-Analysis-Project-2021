{
 "cells": [
  {
   "cell_type": "markdown",
   "metadata": {},
   "source": [
    "# Project Statement\n",
    "\n",
    "Create a Jupyter notebook explaining the use of the package, including detailed explanations of at least five of the distributions provided for in the package\n",
    "\n",
    "There are four distinct tasks to be carried out in your Jupyter notebook.\n",
    "\n",
    "1. Explain the overall purpose of the package.\n",
    "2. Explain the use of the “Simple random data” and “Permutations” functions.\n",
    "3. Explain the use and purpose of at least five “Distributions” functions.\n",
    "4. Explain the use of seeds in generating pseudorandom numbers.\n",
    "\n",
    "## Settings for Python\n",
    "\n",
    "The following three sections as not to distract the reader from the subsequent tasks. This also proves essentially Numpy is faster than Python dealing with numbers, big long lists or lists within lists like matrices. [2] with minimal lines of code.\n",
    "\n",
    "- Import Python libraries for Assignment\n",
    "- Check version of Numpy\n",
    "- Plot Function\n",
    "\n",
    "## Import Python libraries for Assignment\n",
    "\n",
    "Python Modules are imported at the beginning of the Jupyter notebook. These are required for a user if they wish to run an assignment."
   ]
  }
 ],
 "metadata": {
  "language_info": {
   "name": "python"
  },
  "orig_nbformat": 4
 },
 "nbformat": 4,
 "nbformat_minor": 2
}
